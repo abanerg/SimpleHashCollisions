{
  "cells": [
    {
      "attachments": {},
      "cell_type": "markdown",
      "metadata": {},
      "source": [
        "Initially connects to the azure server. Needs to be filled by specific user's azure information. "
      ]
    },
    {
      "cell_type": "code",
      "execution_count": null,
      "metadata": {
        "jupyter": {
          "outputs_hidden": false,
          "source_hidden": false
        },
        "nteract": {
          "transient": {
            "deleting": false
          }
        }
      },
      "outputs": [],
      "source": [
        "import qsharp.azure\n",
        "targets = qsharp.azure.connect(\n",
        "    resourceId=\"...\",\n",
        "    location=\"westus\")\n",
        "SimpleHashCollisions: any = None"
      ]
    },
    {
      "attachments": {},
      "cell_type": "markdown",
      "metadata": {},
      "source": [
        "Main Q# code. Implementation of Grover's search algorithm mainly sourced from [here.](https://learn.microsoft.com/en-us/azure/quantum/tutorial-qdk-grovers-search?tabs=tabid-visualstudio)"
      ]
    },
    {
      "cell_type": "code",
      "execution_count": null,
      "metadata": {
        "jupyter": {
          "outputs_hidden": false,
          "source_hidden": false
        },
        "microsoft": {
          "language": "qsharp"
        },
        "nteract": {
          "transient": {
            "deleting": false
          }
        }
      },
      "outputs": [],
      "source": [
        "%%qsharp\n",
        "open Microsoft.Quantum.Canon;\n",
        "open Microsoft.Quantum.Intrinsic;\n",
        "open Microsoft.Quantum.Measurement;\n",
        "open Microsoft.Quantum.Math;\n",
        "open Microsoft.Quantum.Convert;\n",
        "open Microsoft.Quantum.Arithmetic;\n",
        "open Microsoft.Quantum.Arrays;\n",
        "open Microsoft.Quantum.Preparation;\n",
        "\n",
        "@EntryPoint()\n",
        "operation SimpleHashCollisions(hash : Int) : Result[] {\n",
        "    mutable permutationArray = new Int[128];\n",
        "    for (i in 0 .. 127) {\n",
        "        set permutationArray w/= i <- (3123 * 458 + (i * i)) % 128; \n",
        "    }\n",
        "    let inputBitSize = 5;\n",
        "    let markingOracle = MarkHasher(hash, _, _, permutationArray);\n",
        "    let phaseOracle = ApplyMarkingOracleAsPhaseOracle(markingOracle, _);\n",
        "    let totalHashes = 32; // 2 ** inputBitSize\n",
        "    let nSolutions = 8; // 8 - 5 = 3, 2 ** 3\n",
        "    let nIterations = Round(PI() / 4.0 * Sqrt(IntAsDouble(totalHashes) / IntAsDouble(nSolutions)));\n",
        "    use register = Qubit[8];\n",
        "    RunGroversSearch(register, phaseOracle, nIterations);\n",
        "    let res = MultiM(register);\n",
        "    return res;\n",
        "}\n",
        "\n",
        "operation MarkHasher (\n",
        "hashToCheck : Int,\n",
        "inputQubits : Qubit[],\n",
        "target : Qubit,\n",
        "permutationArray : Int[]\n",
        ") : Unit is Adj + Ctl {\n",
        "use checkQubits = Qubit[5];\n",
        "use hashedQubits = Qubit[5];\n",
        "    \n",
        "let inp = LittleEndian(inputQubits);\n",
        "let check = LittleEndian(checkQubits);\n",
        "let hashed = LittleEndian(hashedQubits);\n",
        "within {\n",
        "    ApplyXorInPlace(hashToCheck, check);\n",
        "    for (i in 217 .. 221) {\n",
        "        ApplyXorInPlace(permutationArray[(i * i)%128], inp);\n",
        "    }\n",
        "    for (i in 0 .. Length(hashedQubits) - 1) {\n",
        "        CNOT(inputQubits[i],hashedQubits[i]);\n",
        "    }\n",
        "    for (i in 0 .. Length(checkQubits) - 1) {\n",
        "        CNOT(hashedQubits[i],checkQubits[i]);\n",
        "    }\n",
        "    ApplyToEachA(X, checkQubits);\n",
        "} apply {\n",
        "    Controlled X(checkQubits, target);\n",
        "    }\n",
        "}\n",
        "\n",
        "operation PrepareUniformSuperpositionOverDigits(digitReg : Qubit[]) : Unit is Adj + Ctl {\n",
        "    PrepareArbitraryStateCP(ConstantArray(10, ComplexPolar(1.0, 0.0)), LittleEndian(digitReg));\n",
        "}\n",
        "\n",
        "operation ApplyMarkingOracleAsPhaseOracle(\n",
        "    markingOracle : (Qubit[], Qubit) => Unit is Adj,\n",
        "    register : Qubit[]\n",
        ") : Unit is Adj {\n",
        "    use target = Qubit();\n",
        "    within {\n",
        "        X(target);\n",
        "        H(target);\n",
        "    } apply {\n",
        "        markingOracle(register, target);\n",
        "    }\n",
        "}\n",
        "\n",
        "operation RunGroversSearch(register : Qubit[], phaseOracle : ((Qubit[]) => Unit is Adj), iterations : Int) : Unit {\n",
        "    ApplyToEach(H, register);\n",
        "    for _ in 1 .. iterations {\n",
        "        phaseOracle(register);\n",
        "        ReflectAboutUniform(register);\n",
        "    }\n",
        "}\n",
        "\n",
        "operation ReflectAboutUniform(inputQubits : Qubit[]) : Unit {\n",
        "    within {\n",
        "        ApplyToEachA(H, inputQubits);\n",
        "        ApplyToEachA(X, inputQubits);\n",
        "    } apply {\n",
        "            Controlled Z(Most(inputQubits), Tail(inputQubits));\n",
        "    }\n",
        "}\n"
      ]
    },
    {
      "attachments": {},
      "cell_type": "markdown",
      "metadata": {},
      "source": [
        "This connects python to the remote server instance and runs the code 100 times with a hash value of 7 (or 0b00111)"
      ]
    },
    {
      "cell_type": "code",
      "execution_count": null,
      "metadata": {
        "jupyter": {
          "outputs_hidden": false,
          "source_hidden": false
        },
        "nteract": {
          "transient": {
            "deleting": false
          }
        }
      },
      "outputs": [],
      "source": [
        "qsharp.azure.target(\"ionq.qpu.aria-1\")\n",
        "\n",
        "result = qsharp.azure.execute(SimpleHashCollisions,hash=7, shots=100, jobName=\"Calculate collisions\")"
      ]
    },
    {
      "attachments": {},
      "cell_type": "markdown",
      "metadata": {},
      "source": [
        "After the job is completed, displays data visually. "
      ]
    },
    {
      "cell_type": "code",
      "execution_count": null,
      "metadata": {
        "jupyter": {
          "outputs_hidden": false,
          "source_hidden": false
        },
        "nteract": {
          "transient": {
            "deleting": false
          }
        }
      },
      "outputs": [],
      "source": [
        "from matplotlib import pyplot\n",
        "pyplot.bar(result.keys(), result.values())\n",
        "pyplot.title(\"Hash collisions on n = 8 input size and m = 5 hash size\")\n",
        "pyplot.xlabel(\"Input  (converted from binary)\")\n",
        "pyplot.xscale(\"linear\")\n",
        "pyplot.ylabel(\"Probability\")\n",
        "for i, j in zip(result.keys(), result.values()):\n",
        "    if (j > 0.07):\n",
        "        print(i.replace(',',\"\"))\n",
        "pyplot.show()"
      ]
    },
    {
      "attachments": {
        "simprob.png": {
          "image/png": "[encoded data removed]"
        }
      },
      "cell_type": "markdown",
      "metadata": {},
      "source": [
        "Output on the cloud simulator will look like:\n",
        "[00010000]\n",
        "[00010100]\n",
        "[00010010]\n",
        "[00010110]\n",
        "[00010001]\n",
        "[00010101]\n",
        "[00010011]\n",
        "[00010111]\n",
        "\n",
        "![simprob.png](attachment:simprob.png)\n"
      ]
    }
  ],
  "metadata": {
    "kernel_info": {
      "name": "python3"
    },
    "kernelspec": {
      "display_name": "Python 3",
      "language": "python",
      "name": "python3"
    },
    "language_info": {
      "codemirror_mode": {
        "name": "ipython",
        "version": 3
      },
      "file_extension": ".py",
      "mimetype": "text/x-python",
      "name": "python",
      "nbconvert_exporter": "python",
      "pygments_lexer": "ipython3",
      "version": "3.10.2 (tags/v3.10.2:a58ebcc, Jan 17 2022, 14:12:15) [MSC v.1929 64 bit (AMD64)]"
    },
    "nteract": {
      "version": "nteract-front-end@1.0.0"
    },
    "vscode": {
      "interpreter": {
        "hash": "369f2c481f4da34e4445cda3fffd2e751bd1c4d706f27375911949ba6bb62e1c"
      }
    }
  },
  "nbformat": 4,
  "nbformat_minor": 0
}
